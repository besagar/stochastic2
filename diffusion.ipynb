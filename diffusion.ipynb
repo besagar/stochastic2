{
 "cells": [
  {
   "cell_type": "markdown",
   "metadata": {},
   "source": [
    "# Диффузия"
   ]
  },
  {
   "cell_type": "code",
   "execution_count": 1,
   "metadata": {},
   "outputs": [],
   "source": [
    "import numpy as np\n",
    "import matplotlib.pyplot as plt"
   ]
  },
  {
   "cell_type": "code",
   "execution_count": 2,
   "metadata": {},
   "outputs": [
    {
     "data": {
      "image/png": "[encoded data removed]",
      "text/plain": [
       "<Figure size 432x288 with 1 Axes>"
      ]
     },
     "metadata": {},
     "output_type": "display_data"
    }
   ],
   "source": [
    "def Path(m, l, T):\n",
    "\n",
    "    path = np.zeros( T + 1 )\n",
    "\n",
    "    #choices = np.array([ -1 , 0 , 1 ])\n",
    "    #probs   = np.array([ m , 1 - m - l , l ])\n",
    " \n",
    "\n",
    "    for i in range ( len( path ) - 1 ) :\n",
    "    \n",
    "        #path[ i + 1 ] = path[ i ] + np.random.choice( choices , p = probs )\n",
    "        \n",
    "        path[ i + 1 ] = path[ i ]\n",
    "        \n",
    "        if np.random.uniform() < m:\n",
    "            \n",
    "            path[ i + 1 ] += -1\n",
    "            \n",
    "        if np.random.uniform() < l:\n",
    "            \n",
    "            path[ i + 1 ] += +1            \n",
    "                \n",
    "    return path\n",
    "    \n",
    "plt.plot( Path(0.4, 0.45, 10**3) )\n",
    "plt.show()        "
   ]
  },
  {
   "cell_type": "code",
   "execution_count": 3,
   "metadata": {},
   "outputs": [],
   "source": [
    "def P( n , t , N = 10**4, m = 0.4, l = 0.5 ):\n",
    "    \n",
    "    S = 0\n",
    "    \n",
    "    for i in range (N):\n",
    "        \n",
    "        p = Path( m , l , t )\n",
    "        \n",
    "        if p[ t ] == n:\n",
    "            \n",
    "            S += 1\n",
    "    \n",
    "    return S/N    "
   ]
  },
  {
   "cell_type": "markdown",
   "metadata": {},
   "source": [
    "Аналитически решая дискретное уравнение Фоккера-Планка, мы получили, что ответ. При $\\lambda = 0$ распределение сводится к Пуассоновскому:\n",
    "\n",
    "\\begin{equation}\n",
    "    P_n(t)=\\dfrac{(\\lambda t)^n}{n!}e^{-\\lambda t}\n",
    "\\end{equation}\n",
    "\n",
    "Проверим."
   ]
  },
  {
   "cell_type": "code",
   "execution_count": 4,
   "metadata": {},
   "outputs": [
    {
     "data": {
      "text/plain": [
       "0.3826"
      ]
     },
     "execution_count": 4,
     "metadata": {},
     "output_type": "execute_result"
    }
   ],
   "source": [
    "P(2,3,m=0,l=0.5)    "
   ]
  },
  {
   "cell_type": "code",
   "execution_count": 5,
   "metadata": {},
   "outputs": [
    {
     "data": {
      "image/png": "[encoded data removed]",
      "text/plain": [
       "<Figure size 432x288 with 1 Axes>"
      ]
     },
     "metadata": {},
     "output_type": "display_data"
    }
   ],
   "source": [
    "plt.plot( Path(0.5, 0, 100) )\n",
    "plt.show()    "
   ]
  },
  {
   "cell_type": "code",
   "execution_count": 8,
   "metadata": {},
   "outputs": [
    {
     "data": {
      "text/plain": [
       "0.25102143016698353"
      ]
     },
     "execution_count": 8,
     "metadata": {},
     "output_type": "execute_result"
    }
   ],
   "source": [
    "def fact (n):\n",
    "    \n",
    "    x = 1\n",
    "    \n",
    "    for i in range (1 , n + 1 ):\n",
    "        \n",
    "        x = x*i\n",
    "        \n",
    "    return x    \n",
    "\n",
    "def PP( n , t , lam = 0.5):\n",
    "    \n",
    "    return ((lam*t)**n)*np.exp(-lam*t)/fact(n)\n",
    "\n",
    "PP( 2 , 3 )"
   ]
  },
  {
   "cell_type": "markdown",
   "metadata": {},
   "source": [
    "Ничего не сходится, а почему - непонятно..."
   ]
  }
 ],
 "metadata": {
  "kernelspec": {
   "display_name": "Python 3",
   "language": "python",
   "name": "python3"
  },
  "language_info": {
   "codemirror_mode": {
    "name": "ipython",
    "version": 3
   },
   "file_extension": ".py",
   "mimetype": "text/x-python",
   "name": "python",
   "nbconvert_exporter": "python",
   "pygments_lexer": "ipython3",
   "version": "3.6.5"
  }
 },
 "nbformat": 4,
 "nbformat_minor": 2
}
